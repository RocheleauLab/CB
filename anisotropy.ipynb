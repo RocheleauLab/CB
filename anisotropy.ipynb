{
 "cells": [
  {
   "cell_type": "code",
   "execution_count": 3,
   "metadata": {},
   "outputs": [],
   "source": [
    "# Import libraries\n",
    "import math\n",
    "import numpy as np\n",
    "from scipy import ndimage\n",
    "import tifffile as tf\n",
    "import os\n",
    "import csv\n",
    "import read_roi\n",
    "\n",
    "# Note: restart kernel after updates to helpers.py\n",
    "from helpers import *\n",
    "\n",
    "\n",
    "# Analysis Parameters\n",
    "numaper = 1.4 #63x Oil\n",
    "gfactor = 1.0\n",
    "\n",
    "mainfolderpath = os.getcwd() + '\\..\\\\'\n",
    "folderlist = []\n",
    "\n",
    "resultsfilename = 'results.csv'"
   ]
  },
  {
   "cell_type": "code",
   "execution_count": 2,
   "metadata": {},
   "outputs": [],
   "source": [
    "# Run analysis\n",
    "ana_aniso(mainfolderpath, folderlist, resultsfilename, gfactor, numaper)"
   ]
  },
  {
   "cell_type": "code",
   "execution_count": 7,
   "metadata": {},
   "outputs": [
    {
     "name": "stdout",
     "output_type": "stream",
     "text": [
      "Hello world!\n"
     ]
    }
   ],
   "source": [
    "# Test helpers.py import\n",
    "importtest(\"world\")"
   ]
  },
  {
   "cell_type": "code",
   "execution_count": 2,
   "metadata": {},
   "outputs": [],
   "source": []
  }
 ],
 "metadata": {
  "kernelspec": {
   "display_name": "Python 3",
   "language": "python",
   "name": "python3"
  },
  "language_info": {
   "codemirror_mode": {
    "name": "ipython",
    "version": 3
   },
   "file_extension": ".py",
   "mimetype": "text/x-python",
   "name": "python",
   "nbconvert_exporter": "python",
   "pygments_lexer": "ipython3",
   "version": "3.7.3"
  }
 },
 "nbformat": 4,
 "nbformat_minor": 4
}
